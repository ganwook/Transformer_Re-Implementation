{
 "cells": [
  {
   "cell_type": "code",
   "execution_count": 5,
   "metadata": {
    "colab": {
     "base_uri": "https://localhost:8080/",
     "height": 126
    },
    "colab_type": "code",
    "executionInfo": {
     "elapsed": 32113,
     "status": "ok",
     "timestamp": 1565241077463,
     "user": {
      "displayName": "김강우",
      "photoUrl": "",
      "userId": "13809575073066285378"
     },
     "user_tz": -540
    },
    "id": "rM5PihG_lAfz",
    "outputId": "fef69ee5-9906-4fd1-f410-37ab0219200a"
   },
   "outputs": [
    {
     "name": "stdout",
     "output_type": "stream",
     "text": [
      "E: Package 'python-software-properties' has no installation candidate\n",
      "Please, open the following URL in a web browser: https://accounts.google.com/o/oauth2/auth?client_id=32555940559.apps.googleusercontent.com&redirect_uri=urn%3Aietf%3Awg%3Aoauth%3A2.0%3Aoob&scope=https%3A%2F%2Fwww.googleapis.com%2Fauth%2Fdrive&response_type=code&access_type=offline&approval_prompt=force\n",
      "··········\n",
      "Please, open the following URL in a web browser: https://accounts.google.com/o/oauth2/auth?client_id=32555940559.apps.googleusercontent.com&redirect_uri=urn%3Aietf%3Awg%3Aoauth%3A2.0%3Aoob&scope=https%3A%2F%2Fwww.googleapis.com%2Fauth%2Fdrive&response_type=code&access_type=offline&approval_prompt=force\n",
      "Please enter the verification code: Access token retrieved correctly.\n"
     ]
    }
   ],
   "source": [
    "!apt-get install -y -qq software-properties-common python-software-properties module-init-tools\n",
    "!add-apt-repository -y ppa:alessandro-strada/ppa 2>&1 > /dev/null\n",
    "!apt-get update -qq 2>&1 > /dev/null\n",
    "!apt-get -y install -qq google-drive-ocamlfuse fuse\n",
    "from google.colab import auth\n",
    "auth.authenticate_user()\n",
    "from oauth2client.client import GoogleCredentials\n",
    "creds = GoogleCredentials.get_application_default()\n",
    "import getpass\n",
    "!google-drive-ocamlfuse -headless -id={creds.client_id} -secret={creds.client_secret} < /dev/null 2>&1 | grep URL\n",
    "vcode = getpass.getpass()\n",
    "!echo {vcode} | google-drive-ocamlfuse -headless -id={creds.client_id} -secret={creds.client_secret}"
   ]
  },
  {
   "cell_type": "code",
   "execution_count": 0,
   "metadata": {
    "colab": {},
    "colab_type": "code",
    "id": "j3WwInXomKVH"
   },
   "outputs": [],
   "source": [
    "!mkdir -p drive\n",
    "!google-drive-ocamlfuse drive"
   ]
  },
  {
   "cell_type": "code",
   "execution_count": 7,
   "metadata": {
    "colab": {
     "base_uri": "https://localhost:8080/",
     "height": 126
    },
    "colab_type": "code",
    "executionInfo": {
     "elapsed": 22096,
     "status": "ok",
     "timestamp": 1565241114113,
     "user": {
      "displayName": "김강우",
      "photoUrl": "",
      "userId": "13809575073066285378"
     },
     "user_tz": -540
    },
    "id": "luc5SZHCmM53",
    "outputId": "6c5e1051-e238-4356-81e3-a85b6d0f3295"
   },
   "outputs": [
    {
     "name": "stdout",
     "output_type": "stream",
     "text": [
      "Go to this URL in a browser: https://accounts.google.com/o/oauth2/auth?client_id=947318989803-6bn6qk8qdgf4n4g3pfee6491hc0brc4i.apps.googleusercontent.com&redirect_uri=urn%3Aietf%3Awg%3Aoauth%3A2.0%3Aoob&scope=email%20https%3A%2F%2Fwww.googleapis.com%2Fauth%2Fdocs.test%20https%3A%2F%2Fwww.googleapis.com%2Fauth%2Fdrive%20https%3A%2F%2Fwww.googleapis.com%2Fauth%2Fdrive.photos.readonly%20https%3A%2F%2Fwww.googleapis.com%2Fauth%2Fpeopleapi.readonly&response_type=code\n",
      "\n",
      "Enter your authorization code:\n",
      "··········\n",
      "Mounted at /content/gdrive\n"
     ]
    }
   ],
   "source": [
    "from google.colab import drive\n",
    "drive.mount('/content/gdrive')"
   ]
  },
  {
   "cell_type": "code",
   "execution_count": 1,
   "metadata": {
    "colab": {
     "base_uri": "https://localhost:8080/",
     "height": 35
    },
    "colab_type": "code",
    "executionInfo": {
     "elapsed": 845,
     "status": "ok",
     "timestamp": 1565241762035,
     "user": {
      "displayName": "김강우",
      "photoUrl": "",
      "userId": "13809575073066285378"
     },
     "user_tz": -540
    },
    "id": "N2CA0IdQlXqu",
    "outputId": "6585f0b1-3bfb-407e-f155-67fb434e8204"
   },
   "outputs": [
    {
     "name": "stdout",
     "output_type": "stream",
     "text": [
      "/content/gdrive/My Drive/DMIS/Re-Implementation/Transformer_Re-Implementation\n"
     ]
    }
   ],
   "source": [
    "cd gdrive/My\\ Drive/DMIS/Re-Implementation/Transformer_Re-Implementation"
   ]
  },
  {
   "cell_type": "code",
   "execution_count": 2,
   "metadata": {
    "colab": {
     "base_uri": "https://localhost:8080/",
     "height": 319
    },
    "colab_type": "code",
    "executionInfo": {
     "elapsed": 2522,
     "status": "ok",
     "timestamp": 1565241763956,
     "user": {
      "displayName": "김강우",
      "photoUrl": "",
      "userId": "13809575073066285378"
     },
     "user_tz": -540
    },
    "id": "AAC0cm8kpB1R",
    "outputId": "d68adf57-45c1-4eb7-ba10-dfda84a58e8a"
   },
   "outputs": [
    {
     "name": "stdout",
     "output_type": "stream",
     "text": [
      "Thu Aug  8 05:22:42 2019       \n",
      "+-----------------------------------------------------------------------------+\n",
      "| NVIDIA-SMI 418.67       Driver Version: 410.79       CUDA Version: 10.0     |\n",
      "|-------------------------------+----------------------+----------------------+\n",
      "| GPU  Name        Persistence-M| Bus-Id        Disp.A | Volatile Uncorr. ECC |\n",
      "| Fan  Temp  Perf  Pwr:Usage/Cap|         Memory-Usage | GPU-Util  Compute M. |\n",
      "|===============================+======================+======================|\n",
      "|   0  Tesla T4            Off  | 00000000:00:04.0 Off |                    0 |\n",
      "| N/A   51C    P8    16W /  70W |      0MiB / 15079MiB |      0%      Default |\n",
      "+-------------------------------+----------------------+----------------------+\n",
      "                                                                               \n",
      "+-----------------------------------------------------------------------------+\n",
      "| Processes:                                                       GPU Memory |\n",
      "|  GPU       PID   Type   Process name                             Usage      |\n",
      "|=============================================================================|\n",
      "|  No running processes found                                                 |\n",
      "+-----------------------------------------------------------------------------+\n"
     ]
    }
   ],
   "source": [
    "!nvidia-smi"
   ]
  },
  {
   "cell_type": "markdown",
   "metadata": {
    "colab_type": "text",
    "id": "NV775aS9nW31"
   },
   "source": [
    "## ================== drive mounting ======================\n",
    "## Train"
   ]
  },
  {
   "cell_type": "code",
   "execution_count": 0,
   "metadata": {
    "colab": {},
    "colab_type": "code",
    "id": "yYJZITCQnSK0"
   },
   "outputs": [],
   "source": [
    "import model as trf\n",
    "from process import get_data\n",
    "from train import *\n",
    "from config import *"
   ]
  },
  {
   "cell_type": "code",
   "execution_count": 0,
   "metadata": {
    "colab": {},
    "colab_type": "code",
    "id": "Lb9xq1bBoEvG"
   },
   "outputs": [],
   "source": [
    "import torch\n",
    "import torch.nn as nn\n",
    "from torchtext import data, datasets"
   ]
  },
  {
   "cell_type": "code",
   "execution_count": 1,
   "metadata": {
    "colab": {},
    "colab_type": "code",
    "id": "Tip9UAXHoHpO"
   },
   "outputs": [],
   "source": [
    "data_path = \"dataset/\"\n",
    "file_name = \"train.\"\n",
    "save_path = \"model_save/transformer_epoch\""
   ]
  },
  {
   "cell_type": "code",
   "execution_count": 0,
   "metadata": {
    "colab": {},
    "colab_type": "code",
    "id": "GL2CA2_LoJ6C"
   },
   "outputs": [],
   "source": [
    "SRC, TGT, trn = get_data(data_path + file_name)"
   ]
  },
  {
   "cell_type": "code",
   "execution_count": 0,
   "metadata": {
    "colab": {},
    "colab_type": "code",
    "id": "Na5mUV2aoY8h"
   },
   "outputs": [],
   "source": [
    "pad_idx = TGT.vocab.stoi[\"<pad>\"]"
   ]
  },
  {
   "cell_type": "code",
   "execution_count": 0,
   "metadata": {
    "colab": {},
    "colab_type": "code",
    "id": "Zxvu8wm0oagt"
   },
   "outputs": [],
   "source": [
    "model = trf.Transformer(len(SRC.vocab), len(TGT.vocab), N = 6)\n",
    "model.cuda()\n",
    "criterion = nn.NLLLoss(ignore_index = 1)\n",
    "criterion.cuda()\n",
    "model_opt = torch.optim.Adam(model.parameters(), lr = .1, betas=(.9, .98), eps = 1e-9)"
   ]
  },
  {
   "cell_type": "code",
   "execution_count": 0,
   "metadata": {
    "colab": {},
    "colab_type": "code",
    "id": "I84_V_cboqAK"
   },
   "outputs": [],
   "source": [
    "train_iter = data.Iterator(trn, batch_size = BATCH_SIZE,\n",
    "                          device = DEVICE_SET,\n",
    "                          repeat = False)"
   ]
  },
  {
   "cell_type": "code",
   "execution_count": 0,
   "metadata": {
    "colab": {
     "base_uri": "https://localhost:8080/",
     "height": 1000
    },
    "colab_type": "code",
    "collapsed": true,
    "executionInfo": {
     "elapsed": 31496706,
     "status": "error",
     "timestamp": 1565225850984,
     "user": {
      "displayName": "김강우",
      "photoUrl": "",
      "userId": "13809575073066285378"
     },
     "user_tz": -540
    },
    "id": "nHBEZrkqq8A4",
    "outputId": "08afcf82-965f-4a94-b130-9d6725b9d40c"
   },
   "outputs": [
    {
     "name": "stdout",
     "output_type": "stream",
     "text": [
      "Iteration Step: 0 Loss: 0.113218 per Sec: 4.277717\n",
      "Iteration Step: 100 Loss: 17.789034 per Sec: 375.880995\n",
      "Iteration Step: 200 Loss: 9.439085 per Sec: 400.231872\n",
      "Iteration Step: 300 Loss: 10.091720 per Sec: 420.132053\n",
      "Iteration Step: 400 Loss: 10.584603 per Sec: 455.191933\n",
      "Iteration Step: 500 Loss: 10.080555 per Sec: 461.691407\n",
      "Iteration Step: 600 Loss: 10.324879 per Sec: 450.547680\n",
      "Iteration Step: 700 Loss: 13.177295 per Sec: 485.454046\n",
      "Iteration Step: 800 Loss: 10.903852 per Sec: 542.740345\n",
      "Iteration Step: 900 Loss: 10.482918 per Sec: 564.208768\n",
      "Iteration Step: 1000 Loss: 15.744347 per Sec: 539.490917\n",
      "Iteration Step: 1100 Loss: 11.308460 per Sec: 567.702864\n",
      "Iteration Step: 1200 Loss: 11.630238 per Sec: 582.721534\n",
      "Iteration Step: 1300 Loss: 12.407413 per Sec: 589.636211\n",
      "Iteration Step: 1400 Loss: 18.401762 per Sec: 610.731749\n",
      "Iteration Step: 1500 Loss: 11.632895 per Sec: 587.646272\n",
      "Iteration Step: 1600 Loss: 19.478905 per Sec: 608.171128\n",
      "Iteration Step: 1700 Loss: 11.323104 per Sec: 586.594922\n",
      "Iteration Step: 1800 Loss: 16.929483 per Sec: 590.093325\n",
      "Iteration Step: 1900 Loss: 16.359272 per Sec: 645.899257\n",
      "Iteration Step: 2000 Loss: 18.164557 per Sec: 621.604424\n",
      "Iteration Step: 2100 Loss: 12.491458 per Sec: 627.878778\n",
      "Iteration Step: 2200 Loss: 21.421093 per Sec: 688.124891\n",
      "Iteration Step: 2300 Loss: 19.578392 per Sec: 672.436221\n",
      "Iteration Step: 2400 Loss: 13.876250 per Sec: 662.435524\n",
      "Iteration Step: 2500 Loss: 28.028664 per Sec: 789.867661\n",
      "Iteration Step: 2600 Loss: 13.733382 per Sec: 685.623275\n",
      "Iteration Step: 2700 Loss: 23.469728 per Sec: 752.563038\n",
      "Iteration Step: 2800 Loss: 17.588690 per Sec: 708.677060\n",
      "Iteration Step: 2900 Loss: 15.728610 per Sec: 721.456601\n",
      "Iteration Step: 3000 Loss: 31.294418 per Sec: 845.275945\n",
      "Iteration Step: 3100 Loss: 12.773559 per Sec: 755.541443\n",
      "Iteration Step: 3200 Loss: 27.449499 per Sec: 838.520504\n",
      "Iteration Step: 3300 Loss: 24.683182 per Sec: 870.754924\n",
      "Iteration Step: 3400 Loss: 20.199415 per Sec: 854.826949\n",
      "Iteration Step: 3500 Loss: 34.560471 per Sec: 891.008000\n",
      "Iteration Step: 3600 Loss: 13.735526 per Sec: 825.092148\n",
      "Iteration Step: 3700 Loss: 39.429516 per Sec: 891.395595\n",
      "Iteration Step: 3800 Loss: 16.137531 per Sec: 843.992297\n",
      "Iteration Step: 3900 Loss: 23.650206 per Sec: 864.374532\n",
      "Iteration Step: 4000 Loss: 29.039577 per Sec: 985.198174\n",
      "Iteration Step: 4100 Loss: 27.183613 per Sec: 985.635407\n",
      "Iteration Step: 4200 Loss: 21.122375 per Sec: 868.617754\n",
      "Iteration Step: 4300 Loss: 34.596092 per Sec: 844.205837\n",
      "Iteration Step: 4400 Loss: 23.271397 per Sec: 901.879398\n",
      "Iteration Step: 4500 Loss: 21.370798 per Sec: 870.929464\n"
     ]
    },
    {
     "ename": "KeyboardInterrupt",
     "evalue": "ignored",
     "output_type": "error",
     "traceback": [
      "\u001b[0;31m---------------------------------------------------------------------------\u001b[0m",
      "\u001b[0;31mKeyboardInterrupt\u001b[0m                         Traceback (most recent call last)",
      "\u001b[0;32m<ipython-input-12-98dd21070562>\u001b[0m in \u001b[0;36m<module>\u001b[0;34m()\u001b[0m\n\u001b[0;32m----> 1\u001b[0;31m \u001b[0mtrain_model\u001b[0m\u001b[0;34m(\u001b[0m\u001b[0;36m3\u001b[0m\u001b[0;34m,\u001b[0m \u001b[0mmodel\u001b[0m\u001b[0;34m,\u001b[0m \u001b[0mcriterion\u001b[0m\u001b[0;34m,\u001b[0m \u001b[0mmodel_opt\u001b[0m\u001b[0;34m,\u001b[0m \u001b[0mtrain_iter\u001b[0m\u001b[0;34m)\u001b[0m\u001b[0;34m\u001b[0m\u001b[0;34m\u001b[0m\u001b[0m\n\u001b[0m",
      "\u001b[0;32m/content/gdrive/My Drive/DMIS/Re-Implementation/Transformer_Re-Implementation/train.py\u001b[0m in \u001b[0;36mtrain_model\u001b[0;34m(epochs, model, criterion, model_opt, train_iter, print_every)\u001b[0m\n\u001b[1;32m     58\u001b[0m             loss = criterion(preds.contiguous().view(-1, preds.size(-1)),\n\u001b[1;32m     59\u001b[0m                             bat.trg_y.contiguous().view(-1))\n\u001b[0;32m---> 60\u001b[0;31m             \u001b[0mloss\u001b[0m\u001b[0;34m.\u001b[0m\u001b[0mbackward\u001b[0m\u001b[0;34m(\u001b[0m\u001b[0;34m)\u001b[0m\u001b[0;34m\u001b[0m\u001b[0;34m\u001b[0m\u001b[0m\n\u001b[0m\u001b[1;32m     61\u001b[0m \u001b[0;34m\u001b[0m\u001b[0m\n\u001b[1;32m     62\u001b[0m             \u001b[0mmodel_opt\u001b[0m\u001b[0;34m.\u001b[0m\u001b[0mstep\u001b[0m\u001b[0;34m(\u001b[0m\u001b[0;34m)\u001b[0m\u001b[0;34m\u001b[0m\u001b[0;34m\u001b[0m\u001b[0m\n",
      "\u001b[0;32m/usr/local/lib/python3.6/dist-packages/torch/tensor.py\u001b[0m in \u001b[0;36mbackward\u001b[0;34m(self, gradient, retain_graph, create_graph)\u001b[0m\n\u001b[1;32m    105\u001b[0m                 \u001b[0mproducts\u001b[0m\u001b[0;34m.\u001b[0m \u001b[0mDefaults\u001b[0m \u001b[0mto\u001b[0m\u001b[0;31m \u001b[0m\u001b[0;31m`\u001b[0m\u001b[0;31m`\u001b[0m\u001b[0;32mFalse\u001b[0m\u001b[0;31m`\u001b[0m\u001b[0;31m`\u001b[0m\u001b[0;34m.\u001b[0m\u001b[0;34m\u001b[0m\u001b[0;34m\u001b[0m\u001b[0m\n\u001b[1;32m    106\u001b[0m         \"\"\"\n\u001b[0;32m--> 107\u001b[0;31m         \u001b[0mtorch\u001b[0m\u001b[0;34m.\u001b[0m\u001b[0mautograd\u001b[0m\u001b[0;34m.\u001b[0m\u001b[0mbackward\u001b[0m\u001b[0;34m(\u001b[0m\u001b[0mself\u001b[0m\u001b[0;34m,\u001b[0m \u001b[0mgradient\u001b[0m\u001b[0;34m,\u001b[0m \u001b[0mretain_graph\u001b[0m\u001b[0;34m,\u001b[0m \u001b[0mcreate_graph\u001b[0m\u001b[0;34m)\u001b[0m\u001b[0;34m\u001b[0m\u001b[0;34m\u001b[0m\u001b[0m\n\u001b[0m\u001b[1;32m    108\u001b[0m \u001b[0;34m\u001b[0m\u001b[0m\n\u001b[1;32m    109\u001b[0m     \u001b[0;32mdef\u001b[0m \u001b[0mregister_hook\u001b[0m\u001b[0;34m(\u001b[0m\u001b[0mself\u001b[0m\u001b[0;34m,\u001b[0m \u001b[0mhook\u001b[0m\u001b[0;34m)\u001b[0m\u001b[0;34m:\u001b[0m\u001b[0;34m\u001b[0m\u001b[0;34m\u001b[0m\u001b[0m\n",
      "\u001b[0;32m/usr/local/lib/python3.6/dist-packages/torch/autograd/__init__.py\u001b[0m in \u001b[0;36mbackward\u001b[0;34m(tensors, grad_tensors, retain_graph, create_graph, grad_variables)\u001b[0m\n\u001b[1;32m     91\u001b[0m     Variable._execution_engine.run_backward(\n\u001b[1;32m     92\u001b[0m         \u001b[0mtensors\u001b[0m\u001b[0;34m,\u001b[0m \u001b[0mgrad_tensors\u001b[0m\u001b[0;34m,\u001b[0m \u001b[0mretain_graph\u001b[0m\u001b[0;34m,\u001b[0m \u001b[0mcreate_graph\u001b[0m\u001b[0;34m,\u001b[0m\u001b[0;34m\u001b[0m\u001b[0;34m\u001b[0m\u001b[0m\n\u001b[0;32m---> 93\u001b[0;31m         allow_unreachable=True)  # allow_unreachable flag\n\u001b[0m\u001b[1;32m     94\u001b[0m \u001b[0;34m\u001b[0m\u001b[0m\n\u001b[1;32m     95\u001b[0m \u001b[0;34m\u001b[0m\u001b[0m\n",
      "\u001b[0;31mKeyboardInterrupt\u001b[0m: "
     ]
    }
   ],
   "source": [
    "train_model(epochs, model, criterion, model_opt, train_iter, save_path, print_every)"
   ]
  }
 ],
 "metadata": {
  "accelerator": "GPU",
  "colab": {
   "collapsed_sections": [],
   "name": "train_colab.ipynb",
   "provenance": [],
   "version": "0.3.2"
  },
  "kernelspec": {
   "display_name": "Python 3",
   "language": "python",
   "name": "python3"
  },
  "language_info": {
   "codemirror_mode": {
    "name": "ipython",
    "version": 3
   },
   "file_extension": ".py",
   "mimetype": "text/x-python",
   "name": "python",
   "nbconvert_exporter": "python",
   "pygments_lexer": "ipython3",
   "version": "3.6.8"
  }
 },
 "nbformat": 4,
 "nbformat_minor": 1
}
