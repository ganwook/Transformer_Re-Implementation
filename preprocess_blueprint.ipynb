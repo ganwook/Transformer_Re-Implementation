{
 "cells": [
  {
   "cell_type": "code",
   "execution_count": 1,
   "metadata": {},
   "outputs": [],
   "source": [
    "from torchtext import data, datasets"
   ]
  },
  {
   "cell_type": "code",
   "execution_count": 2,
   "metadata": {},
   "outputs": [],
   "source": [
    "data_path = \"dataset/\"\n",
    "file_name = \"train\""
   ]
  },
  {
   "cell_type": "code",
   "execution_count": 12,
   "metadata": {},
   "outputs": [],
   "source": [
    "BOS_WORD = '<s>'\n",
    "EOS_WORD = '</s>'\n",
    "PAD_WORD = \"<pad>\"\n",
    "MAX_LEN = 100\n",
    "MIN_FREQ = 2\n",
    "DEVICE_SET = None\n",
    "BATCH_SIZE = 3"
   ]
  },
  {
   "cell_type": "code",
   "execution_count": 13,
   "metadata": {},
   "outputs": [],
   "source": [
    "field_en = data.Field(sequential = True, use_vocab = True,\n",
    "                    batch_first = True,tokenize=str.split, \n",
    "                    init_token = BOS_WORD,                   \n",
    "                 eos_token = EOS_WORD, pad_token=PAD_WORD)"
   ]
  },
  {
   "cell_type": "code",
   "execution_count": 14,
   "metadata": {},
   "outputs": [],
   "source": [
    "field_de = data.Field(sequential = True, use_vocab = True,\n",
    "                    batch_first = True, tokenize=str.split, \n",
    "                    init_token = BOS_WORD,                   \n",
    "                    eos_token = EOS_WORD, pad_token=PAD_WORD)"
   ]
  },
  {
   "cell_type": "code",
   "execution_count": 32,
   "metadata": {},
   "outputs": [],
   "source": [
    "train_en = data.TabularDataset(path= data_path + file_name + 'en', \n",
    "                             fields = [('en', txt_en)],\n",
    "                             format = 'tsv')"
   ]
  },
  {
   "cell_type": "code",
   "execution_count": 32,
   "metadata": {},
   "outputs": [],
   "source": [
    "train_de = data.TabularDataset(path= data_path + file_name + 'de', \n",
    "                             fields = [('de', txt_de)],\n",
    "                             format = 'tsv')"
   ]
  },
  {
   "cell_type": "code",
   "execution_count": 33,
   "metadata": {},
   "outputs": [],
   "source": [
    "txt_en.build_vocab(train_en, min_freq = MIN_FREQ)"
   ]
  },
  {
   "cell_type": "code",
   "execution_count": 34,
   "metadata": {},
   "outputs": [
    {
     "name": "stdout",
     "output_type": "stream",
     "text": [
      "8\n"
     ]
    }
   ],
   "source": [
    "print(txt_en.vocab.stoi['a'])"
   ]
  },
  {
   "cell_type": "code",
   "execution_count": 40,
   "metadata": {},
   "outputs": [
    {
     "name": "stdout",
     "output_type": "stream",
     "text": [
      "<unk>\n"
     ]
    }
   ],
   "source": [
    "print(txt_en.vocab.itos[0])"
   ]
  },
  {
   "cell_type": "markdown",
   "metadata": {},
   "source": [
    "# Batch Loader"
   ]
  },
  {
   "cell_type": "code",
   "execution_count": 10,
   "metadata": {},
   "outputs": [],
   "source": [
    "train_loader = data.Iterator(train_en, batch_size = BATCH_SIZE,\n",
    "                            device = DEVICE_SET, # if using GPU, type \"cuda\" \n",
    "                            repeat = False)"
   ]
  },
  {
   "cell_type": "code",
   "execution_count": 11,
   "metadata": {},
   "outputs": [],
   "source": [
    "for batch in train_loader:\n",
    "    break"
   ]
  },
  {
   "cell_type": "code",
   "execution_count": 12,
   "metadata": {},
   "outputs": [
    {
     "name": "stdout",
     "output_type": "stream",
     "text": [
      "tensor([[    2,  1303,  2645, 30315,   760,   165,    11,    36,    87,    21,\n",
      "             8,   327,    19,   165,     3,     1,     1,     1,     1,     1,\n",
      "             1,     1,     1,     1,     1,     1,     1,     1,     1,     1,\n",
      "             1,     1,     1,     1,     1,     1,     1],\n",
      "        [    2,    14,  3280, 25559,   255,     7,    76, 25559,    35,   512,\n",
      "            56,    25,    57,   150,     5,   478,    81,  4904,     3,     1,\n",
      "             1,     1,     1,     1,     1,     1,     1,     1,     1,     1,\n",
      "             1,     1,     1,     1,     1,     1,     1],\n",
      "        [    2,    14,    39,    15,    21,    24,     4,  1693,   476,    28,\n",
      "            42,     6,    35,  1829,  3262,     5,   238,     4,     0,     0,\n",
      "         10621,   420,    74,    20,     4,  4018,    74,    20, 33981,  5390,\n",
      "         22136,    74,   195,   173,     8,  1680,     3]])\n"
     ]
    }
   ],
   "source": [
    "print(batch.en)"
   ]
  },
  {
   "cell_type": "markdown",
   "metadata": {},
   "source": [
    "# ==================================\n",
    "# Import test"
   ]
  },
  {
   "cell_type": "code",
   "execution_count": 4,
   "metadata": {},
   "outputs": [],
   "source": [
    "from process import get_data"
   ]
  },
  {
   "cell_type": "code",
   "execution_count": 9,
   "metadata": {},
   "outputs": [],
   "source": [
    "field_en, field_de, trn = get_data(file_path = data_path + file_name)"
   ]
  },
  {
   "cell_type": "markdown",
   "metadata": {},
   "source": [
    "# ===================================\n",
    "## Translation dataset"
   ]
  },
  {
   "cell_type": "code",
   "execution_count": 18,
   "metadata": {},
   "outputs": [],
   "source": [
    "trn = datasets.TranslationDataset(path = data_path + file_name, exts = ('en', 'de'),\n",
    "                           fields = [('en', field_en), ('de', field_de)])"
   ]
  },
  {
   "cell_type": "code",
   "execution_count": 39,
   "metadata": {},
   "outputs": [
    {
     "data": {
      "text/plain": [
       "<generator object Dataset.__getattr__ at 0x0000018F83334410>"
      ]
     },
     "execution_count": 39,
     "metadata": {},
     "output_type": "execute_result"
    }
   ],
   "source": [
    "trn.en"
   ]
  },
  {
   "cell_type": "code",
   "execution_count": 27,
   "metadata": {},
   "outputs": [],
   "source": [
    "field_en.build_vocab(trn.en, min_freq = MIN_FREQ)"
   ]
  },
  {
   "cell_type": "code",
   "execution_count": 28,
   "metadata": {},
   "outputs": [],
   "source": [
    "field_de.build_vocab(trn.de, min_freq = MIN_FREQ)"
   ]
  },
  {
   "cell_type": "code",
   "execution_count": 19,
   "metadata": {},
   "outputs": [
    {
     "data": {
      "text/plain": [
       "<torchtext.data.example.Example at 0x18fc6d8a6a0>"
      ]
     },
     "execution_count": 19,
     "metadata": {},
     "output_type": "execute_result"
    }
   ],
   "source": [
    "trn[0]"
   ]
  },
  {
   "cell_type": "code",
   "execution_count": 20,
   "metadata": {},
   "outputs": [
    {
     "data": {
      "text/plain": [
       "dict_keys(['en', 'de'])"
      ]
     },
     "execution_count": 20,
     "metadata": {},
     "output_type": "execute_result"
    }
   ],
   "source": [
    "trn[0].__dict__.keys()"
   ]
  },
  {
   "cell_type": "code",
   "execution_count": 21,
   "metadata": {},
   "outputs": [
    {
     "data": {
      "text/plain": [
       "['David', 'Gallo:', 'This', 'is', 'Bill', 'Lange.', \"I'm\", 'Dave', 'Gallo.']"
      ]
     },
     "execution_count": 21,
     "metadata": {},
     "output_type": "execute_result"
    }
   ],
   "source": [
    "trn[0].en"
   ]
  },
  {
   "cell_type": "code",
   "execution_count": 22,
   "metadata": {},
   "outputs": [
    {
     "data": {
      "text/plain": [
       "['David',\n",
       " 'Gallo:',\n",
       " 'Das',\n",
       " 'ist',\n",
       " 'Bill',\n",
       " 'Lange.',\n",
       " 'Ich',\n",
       " 'bin',\n",
       " 'Dave',\n",
       " 'Gallo.']"
      ]
     },
     "execution_count": 22,
     "metadata": {},
     "output_type": "execute_result"
    }
   ],
   "source": [
    "trn[0].de"
   ]
  },
  {
   "cell_type": "code",
   "execution_count": 29,
   "metadata": {},
   "outputs": [],
   "source": [
    "train_loader = data.Iterator(trn, batch_size = BATCH_SIZE,\n",
    "                            device = DEVICE_SET, # if using GPU, type \"cuda\" \n",
    "                            repeat = False)"
   ]
  },
  {
   "cell_type": "code",
   "execution_count": 30,
   "metadata": {},
   "outputs": [],
   "source": [
    "for batch in train_loader:\n",
    "    break"
   ]
  },
  {
   "cell_type": "code",
   "execution_count": 32,
   "metadata": {},
   "outputs": [
    {
     "name": "stdout",
     "output_type": "stream",
     "text": [
      "\n",
      "[torchtext.data.batch.Batch of size 3]\n",
      "\t[.en]:[torch.LongTensor of size 3x43]\n",
      "\t[.de]:[torch.LongTensor of size 3x44]\n"
     ]
    }
   ],
   "source": [
    "print(batch)"
   ]
  },
  {
   "cell_type": "code",
   "execution_count": 36,
   "metadata": {},
   "outputs": [
    {
     "data": {
      "text/plain": [
       "tensor([[    2,    14,   362,    66,    25,   381,  1497,     0,   117, 18817,\n",
       "           750,   784,  3922,     3,     1,     1,     1,     1,     1,     1,\n",
       "             1,     1,     1,     1,     1,     1,     1,     1,     1,     1,\n",
       "             1,     1,     1,     1,     1,     1,     1,     1,     1,     1,\n",
       "             1,     1,     1,     1],\n",
       "        [    2,   184,   165,  1342,   712,  3183,    30,     0,    28,     4,\n",
       "         70091,  4291,   371,  3982,   353,     4, 17193,   582, 14436,    28,\n",
       "             4, 59232,    76, 42798,   307,    38,  1376,     8, 10423,   656,\n",
       "          2113,     5, 28787,    67,    62,   282,  1050,   125,    12,    25,\n",
       "             4, 12418, 18966,     3],\n",
       "        [    2,    32,    73,    65,  1167, 17029,   310, 55637,    16, 26429,\n",
       "             3,     1,     1,     1,     1,     1,     1,     1,     1,     1,\n",
       "             1,     1,     1,     1,     1,     1,     1,     1,     1,     1,\n",
       "             1,     1,     1,     1,     1,     1,     1,     1,     1,     1,\n",
       "             1,     1,     1,     1]])"
      ]
     },
     "execution_count": 36,
     "metadata": {},
     "output_type": "execute_result"
    }
   ],
   "source": [
    "batch.de"
   ]
  },
  {
   "cell_type": "code",
   "execution_count": null,
   "metadata": {},
   "outputs": [],
   "source": []
  }
 ],
 "metadata": {
  "kernelspec": {
   "display_name": "Python 3",
   "language": "python",
   "name": "python3"
  },
  "language_info": {
   "codemirror_mode": {
    "name": "ipython",
    "version": 3
   },
   "file_extension": ".py",
   "mimetype": "text/x-python",
   "name": "python",
   "nbconvert_exporter": "python",
   "pygments_lexer": "ipython3",
   "version": "3.6.8"
  }
 },
 "nbformat": 4,
 "nbformat_minor": 2
}
