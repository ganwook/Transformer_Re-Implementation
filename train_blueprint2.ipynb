{
 "cells": [
  {
   "cell_type": "code",
   "execution_count": 3,
   "metadata": {},
   "outputs": [],
   "source": [
    "import model as trf\n",
    "from process import get_data\n",
    "from train import *\n",
    "from config import *"
   ]
  },
  {
   "cell_type": "code",
   "execution_count": 2,
   "metadata": {},
   "outputs": [],
   "source": [
    "from torchtext import data, datasets"
   ]
  },
  {
   "cell_type": "code",
   "execution_count": 3,
   "metadata": {},
   "outputs": [],
   "source": [
    "data_path = \"dataset/\"\n",
    "file_name = \"train.\""
   ]
  },
  {
   "cell_type": "code",
   "execution_count": 44,
   "metadata": {},
   "outputs": [],
   "source": [
    "print_every = 50\n",
    "epochs = 10"
   ]
  },
  {
   "cell_type": "code",
   "execution_count": 4,
   "metadata": {},
   "outputs": [],
   "source": [
    "SRC, TGT, trn = get_data(data_path + file_name)"
   ]
  },
  {
   "cell_type": "code",
   "execution_count": 5,
   "metadata": {},
   "outputs": [],
   "source": [
    "pad_idx = TGT.vocab.stoi[\"<pad>\"]"
   ]
  },
  {
   "cell_type": "code",
   "execution_count": 37,
   "metadata": {},
   "outputs": [],
   "source": [
    "model = trf.Transformer(len(SRC.vocab), len(TGT.vocab), N = 6)\n",
    "#model.cuda()\n",
    "criterion = nn.CrossEntropyLoss(ignore_index = 1)\n",
    "#criterion.cuda()\n",
    "model_opt = torch.optim.Adam(model.parameters(), lr = .1, betas=(.9, .98), eps = 1e-9)"
   ]
  },
  {
   "cell_type": "code",
   "execution_count": 6,
   "metadata": {},
   "outputs": [],
   "source": [
    "train_iter = data.Iterator(trn, batch_size = BATCH_SIZE,\n",
    "                          device = DEVICE_SET,\n",
    "                          repeat = False)"
   ]
  },
  {
   "cell_type": "code",
   "execution_count": null,
   "metadata": {},
   "outputs": [],
   "source": [
    "def train_model(epochs, print_every = 100, model, criterion, model_opt, train_iter):\n",
    "    model.train()\n",
    "    start = time.time()\n",
    "    \n",
    "    for epoch in range(epochs):\n",
    "        for i, batch in enumerate(train_iter):\n",
    "            total_loss = 0\n",
    "            \n",
    "            src = batch.en\n",
    "            tgt = batch.de\n",
    "            \n",
    "            # equalize sequence length of batches\n",
    "            diff_ = src.size(-1) - tgt.size(-1)\n",
    "            bal_pad = torch.ones(BATCH_SIZE, abs(diff_), dtype = torch.long) * pad_idx\n",
    "\n",
    "            if diff_ < 0:\n",
    "                src = torch.cat((src, bal_pad), dim = 1)\n",
    "            elif diff_ > 0:\n",
    "                tgt = torch.cat((tgt, bal_pad), dim = 1)\n",
    "                \n",
    "            bat = Batch(src, tgt) # from train.Batch\n",
    "            \n",
    "            hidden = model.forward(bat.src, bat.trg, bat.src_mask, bat.trg_mask)\n",
    "            preds = model.generator(hidden)\n",
    "\n",
    "            model_opt.zero_grad()\n",
    "\n",
    "            loss = criterion(preds.contiguous().view(-1, preds.size(-1)),\n",
    "                            bat.trg_y.contiguous().view(-1))\n",
    "            loss.backward()\n",
    "\n",
    "            model_opt.step()\n",
    "\n",
    "            total_loss += loss.data\n",
    "\n",
    "            if i % print_every == 1:\n",
    "                elapsed = time.time() - start\n",
    "                print(\"Epoch Step: %d Loss: %f per Sec: %f\" %\n",
    "                        (i, total_loss / print_every, elapsed))\n",
    "                start = time.time()"
   ]
  },
  {
   "cell_type": "code",
   "execution_count": null,
   "metadata": {},
   "outputs": [],
   "source": [
    "model.train()\n",
    "start = time.time()"
   ]
  },
  {
   "cell_type": "code",
   "execution_count": null,
   "metadata": {},
   "outputs": [],
   "source": [
    "total_loss = 0"
   ]
  },
  {
   "cell_type": "code",
   "execution_count": 7,
   "metadata": {},
   "outputs": [],
   "source": [
    "for i, batch in enumerate(train_iter):\n",
    "    break\n",
    "    i += 1"
   ]
  },
  {
   "cell_type": "code",
   "execution_count": 8,
   "metadata": {},
   "outputs": [],
   "source": [
    "src = batch.en\n",
    "tgt = batch.de"
   ]
  },
  {
   "cell_type": "code",
   "execution_count": 9,
   "metadata": {},
   "outputs": [],
   "source": [
    "# equalize sequence length of batches\n",
    "diff_ = src.size(-1) - tgt.size(-1)\n",
    "bal_pad = torch.ones(BATCH_SIZE, abs(diff_), dtype = torch.long) * pad_idx\n",
    "\n",
    "if diff_ < 0:\n",
    "    src = torch.cat((src, bal_pad), dim = 1)\n",
    "elif diff_ > 0:\n",
    "    tgt = torch.cat((tgt, bal_pad), dim = 1)"
   ]
  },
  {
   "cell_type": "markdown",
   "metadata": {},
   "source": [
    "print(src.shape, tgt.shape)"
   ]
  },
  {
   "cell_type": "code",
   "execution_count": 18,
   "metadata": {
    "scrolled": true
   },
   "outputs": [],
   "source": [
    "bat = Batch(src, tgt)"
   ]
  },
  {
   "cell_type": "markdown",
   "metadata": {},
   "source": [
    "print(bat.trg_mask.shape, bat.src_mask.shape)"
   ]
  },
  {
   "cell_type": "code",
   "execution_count": 39,
   "metadata": {},
   "outputs": [],
   "source": [
    "hidden = model.forward(bat.src, bat.trg, bat.src_mask, bat.trg_mask)"
   ]
  },
  {
   "cell_type": "code",
   "execution_count": 40,
   "metadata": {},
   "outputs": [],
   "source": [
    "preds = model.generator(hidden)"
   ]
  },
  {
   "cell_type": "code",
   "execution_count": 41,
   "metadata": {},
   "outputs": [],
   "source": [
    "model_opt.zero_grad()"
   ]
  },
  {
   "cell_type": "code",
   "execution_count": 42,
   "metadata": {},
   "outputs": [],
   "source": [
    "loss = criterion(preds.contiguous().view(-1, preds.size(-1)),\n",
    "                bat.trg_y.contiguous().view(-1))\n",
    "loss.backward()"
   ]
  },
  {
   "cell_type": "code",
   "execution_count": 43,
   "metadata": {},
   "outputs": [
    {
     "data": {
      "text/plain": [
       "tensor(11.3556)"
      ]
     },
     "execution_count": 43,
     "metadata": {},
     "output_type": "execute_result"
    }
   ],
   "source": [
    "loss.data"
   ]
  },
  {
   "cell_type": "markdown",
   "metadata": {},
   "source": [
    "preds.size()"
   ]
  },
  {
   "cell_type": "markdown",
   "metadata": {},
   "source": [
    "print(preds.contiguous().view(-1, preds.size(-1)).shape,\n",
    "                bat.trg_y.contiguous().view(-1).shape)"
   ]
  },
  {
   "cell_type": "code",
   "execution_count": 28,
   "metadata": {},
   "outputs": [],
   "source": [
    "model_opt.step()"
   ]
  },
  {
   "cell_type": "code",
   "execution_count": 33,
   "metadata": {},
   "outputs": [],
   "source": [
    "total_loss += loss.data"
   ]
  },
  {
   "cell_type": "code",
   "execution_count": 34,
   "metadata": {},
   "outputs": [],
   "source": [
    "if i % print_every == 1:\n",
    "    elapsed = time.time() - start\n",
    "    print(\"Epoch Step: %d Loss: %f per Sec: %f\" %\n",
    "            (i, total_loss / print_every, elapsed))\n",
    "    start = time.time()"
   ]
  },
  {
   "cell_type": "code",
   "execution_count": 1,
   "metadata": {},
   "outputs": [],
   "source": [
    "from train import Batch"
   ]
  },
  {
   "cell_type": "code",
   "execution_count": 2,
   "metadata": {},
   "outputs": [
    {
     "data": {
      "text/plain": [
       "train.Batch"
      ]
     },
     "execution_count": 2,
     "metadata": {},
     "output_type": "execute_result"
    }
   ],
   "source": [
    "Batch"
   ]
  },
  {
   "cell_type": "code",
   "execution_count": null,
   "metadata": {},
   "outputs": [],
   "source": []
  }
 ],
 "metadata": {
  "kernelspec": {
   "display_name": "Python 3",
   "language": "python",
   "name": "python3"
  },
  "language_info": {
   "codemirror_mode": {
    "name": "ipython",
    "version": 3
   },
   "file_extension": ".py",
   "mimetype": "text/x-python",
   "name": "python",
   "nbconvert_exporter": "python",
   "pygments_lexer": "ipython3",
   "version": "3.6.8"
  }
 },
 "nbformat": 4,
 "nbformat_minor": 2
}
